{
 "cells": [
  {
   "cell_type": "markdown",
   "id": "1bd61496",
   "metadata": {},
   "source": [
    "**Goal**: Introduce basic SQL structure and show some example data transformations. Understand CTEs, aliases, and `CASE` statements. Preview boolean logic, `COALESCE`, `NOT NULL`, and other forms of filtering."
   ]
  },
  {
   "cell_type": "code",
   "execution_count": 1,
   "id": "37125b65-2361-44e2-80e4-18f2b215a5bb",
   "metadata": {},
   "outputs": [
    {
     "data": {
      "text/html": [
       "<span style=\"None\">Loading configurations from /workspaces/DuckDB-fundamentals-of-data-transformation-4554074/pyproject.toml.</span>"
      ],
      "text/plain": [
       "Loading configurations from /workspaces/DuckDB-fundamentals-of-data-transformation-4554074/pyproject.toml."
      ]
     },
     "metadata": {},
     "output_type": "display_data"
    },
    {
     "data": {
      "text/html": [
       "<span style=\"None\">Settings changed:</span>"
      ],
      "text/plain": [
       "Settings changed:"
      ]
     },
     "metadata": {},
     "output_type": "display_data"
    },
    {
     "data": {
      "text/html": [
       "\n",
       "<table>\n",
       "    <thead>\n",
       "        <tr>\n",
       "            <th>Config</th>\n",
       "            <th>value</th>\n",
       "        </tr>\n",
       "    </thead>\n",
       "    <tbody>\n",
       "        <tr>\n",
       "            <td>feedback</td>\n",
       "            <td>True</td>\n",
       "        </tr>\n",
       "        <tr>\n",
       "            <td>autopandas</td>\n",
       "            <td>True</td>\n",
       "        </tr>\n",
       "        <tr>\n",
       "            <td>displaylimit</td>\n",
       "            <td>10</td>\n",
       "        </tr>\n",
       "        <tr>\n",
       "            <td>displaycon</td>\n",
       "            <td>False</td>\n",
       "        </tr>\n",
       "    </tbody>\n",
       "</table>"
      ],
      "text/plain": [
       "\n",
       "+--------------+-------+\n",
       "|    Config    | value |\n",
       "+--------------+-------+\n",
       "|   feedback   |  True |\n",
       "|  autopandas  |  True |\n",
       "| displaylimit |   10  |\n",
       "|  displaycon  | False |\n",
       "+--------------+-------+"
      ]
     },
     "metadata": {},
     "output_type": "display_data"
    },
    {
     "data": {
      "text/html": [
       "<div>\n",
       "<style scoped>\n",
       "    .dataframe tbody tr th:only-of-type {\n",
       "        vertical-align: middle;\n",
       "    }\n",
       "\n",
       "    .dataframe tbody tr th {\n",
       "        vertical-align: top;\n",
       "    }\n",
       "\n",
       "    .dataframe thead th {\n",
       "        text-align: right;\n",
       "    }\n",
       "</style>\n",
       "<table border=\"1\" class=\"dataframe\">\n",
       "  <thead>\n",
       "    <tr style=\"text-align: right;\">\n",
       "      <th></th>\n",
       "      <th>Count</th>\n",
       "    </tr>\n",
       "  </thead>\n",
       "  <tbody>\n",
       "    <tr>\n",
       "      <th>0</th>\n",
       "      <td>224</td>\n",
       "    </tr>\n",
       "  </tbody>\n",
       "</table>\n",
       "</div>"
      ],
      "text/plain": [
       "   Count\n",
       "0    224"
      ]
     },
     "execution_count": 1,
     "metadata": {},
     "output_type": "execute_result"
    }
   ],
   "source": [
    "import duckdb\n",
    "\n",
    "# Load SQL extension\n",
    "%load_ext sql\n",
    "\n",
    "# Initialize 🦆 DuckDB connection\n",
    "conn = duckdb.connect()\n",
    "\n",
    "# Import database\n",
    "%sql conn --alias duckdb\n",
    "%sql IMPORT DATABASE '../../data/nps';"
   ]
  },
  {
   "cell_type": "markdown",
   "id": "7137f423",
   "metadata": {},
   "source": [
    "We often deal with a mix of structured and semi-structured data in SQL transformations, let's see what our parks dataset looks like."
   ]
  },
  {
   "cell_type": "code",
   "execution_count": 2,
   "id": "1e4905ec-b2d8-4db5-9a20-db4edda23bef",
   "metadata": {
    "vscode": {
     "languageId": "sql"
    }
   },
   "outputs": [
    {
     "data": {
      "text/html": [
       "<div>\n",
       "<style scoped>\n",
       "    .dataframe tbody tr th:only-of-type {\n",
       "        vertical-align: middle;\n",
       "    }\n",
       "\n",
       "    .dataframe tbody tr th {\n",
       "        vertical-align: top;\n",
       "    }\n",
       "\n",
       "    .dataframe thead th {\n",
       "        text-align: right;\n",
       "    }\n",
       "</style>\n",
       "<table border=\"1\" class=\"dataframe\">\n",
       "  <thead>\n",
       "    <tr style=\"text-align: right;\">\n",
       "      <th></th>\n",
       "      <th>relevanceScore</th>\n",
       "      <th>designation</th>\n",
       "      <th>weatherInfo</th>\n",
       "      <th>addresses</th>\n",
       "      <th>operatingHours</th>\n",
       "      <th>entrancePasses</th>\n",
       "      <th>name</th>\n",
       "      <th>description</th>\n",
       "      <th>directionsUrl</th>\n",
       "      <th>fees</th>\n",
       "      <th>...</th>\n",
       "      <th>activities</th>\n",
       "      <th>url</th>\n",
       "      <th>longitude</th>\n",
       "      <th>id</th>\n",
       "      <th>images</th>\n",
       "      <th>directionsInfo</th>\n",
       "      <th>fullName</th>\n",
       "      <th>parkCode</th>\n",
       "      <th>latLong</th>\n",
       "      <th>latitude</th>\n",
       "    </tr>\n",
       "  </thead>\n",
       "  <tbody>\n",
       "    <tr>\n",
       "      <th>0</th>\n",
       "      <td>1</td>\n",
       "      <td>National Memorial</td>\n",
       "      <td>http://forecast.weather.gov/MapClick.php?CityN...</td>\n",
       "      <td>[{'type': 'Physical', 'line2': '', 'line1': '1...</td>\n",
       "      <td>[{'name': 'Hours of Operation', 'standardHours...</td>\n",
       "      <td>[]</td>\n",
       "      <td>Federal Hall</td>\n",
       "      <td>Here on Wall Street, George Washington took th...</td>\n",
       "      <td>http://www.nps.gov/feha/planyourvisit/directio...</td>\n",
       "      <td>[]</td>\n",
       "      <td>...</td>\n",
       "      <td>[{'name': 'Arts and Culture', 'id': '09DF0950-...</td>\n",
       "      <td>https://www.nps.gov/feha/index.htm</td>\n",
       "      <td>-74.010256</td>\n",
       "      <td>2337D255-2D32-4997-957A-D461EEA03AF8</td>\n",
       "      <td>[{'url': 'https://www.nps.gov/common/uploads/s...</td>\n",
       "      <td>The main entrance of Federal Hall is located a...</td>\n",
       "      <td>Federal Hall National Memorial</td>\n",
       "      <td>feha</td>\n",
       "      <td>lat:40.70731192, long:-74.01025636</td>\n",
       "      <td>40.707312</td>\n",
       "    </tr>\n",
       "    <tr>\n",
       "      <th>1</th>\n",
       "      <td>1</td>\n",
       "      <td>National Historic Trail</td>\n",
       "      <td>In winter, watch for ice on trails and sidewal...</td>\n",
       "      <td>[{'type': 'Physical', 'line2': '', 'line1': '6...</td>\n",
       "      <td>[{'name': 'Visitor Center Hours', 'standardHou...</td>\n",
       "      <td>[]</td>\n",
       "      <td>Lewis &amp; Clark</td>\n",
       "      <td>The Lewis and Clark National Historic Trail wi...</td>\n",
       "      <td>https://www.nps.gov/lecl/</td>\n",
       "      <td>[]</td>\n",
       "      <td>...</td>\n",
       "      <td>[{'name': 'Auto and ATV', 'id': '5F723BAD-7359...</td>\n",
       "      <td>https://www.nps.gov/lecl/index.htm</td>\n",
       "      <td>-95.924515</td>\n",
       "      <td>5D443C5F-19A0-4A06-9CE4-30534A3DD81A</td>\n",
       "      <td>[{'url': 'https://www.nps.gov/common/uploads/s...</td>\n",
       "      <td>Lewis &amp; Clark National Historic Trail Headquar...</td>\n",
       "      <td>Lewis &amp; Clark National Historic Trail</td>\n",
       "      <td>lecl</td>\n",
       "      <td>lat:41.2646141052, long:-95.9245147705</td>\n",
       "      <td>41.264614</td>\n",
       "    </tr>\n",
       "    <tr>\n",
       "      <th>2</th>\n",
       "      <td>1</td>\n",
       "      <td></td>\n",
       "      <td>Summers are generally hot and humid, with dayt...</td>\n",
       "      <td>[{'type': 'Physical', 'line2': '', 'line1': '1...</td>\n",
       "      <td>[{'name': 'National Capital Parks-East Headqua...</td>\n",
       "      <td>[]</td>\n",
       "      <td>National Capital Parks-East</td>\n",
       "      <td>Welcome to National Capital Parks-East. We inv...</td>\n",
       "      <td>http://www.nps.gov/nace/planyourvisit/directio...</td>\n",
       "      <td>[]</td>\n",
       "      <td>...</td>\n",
       "      <td>[{'name': 'Biking', 'id': '7CE6E935-F839-4FEC-...</td>\n",
       "      <td>https://www.nps.gov/nace/index.htm</td>\n",
       "      <td>-76.994000</td>\n",
       "      <td>BA3C1A1D-AA6A-49EB-9237-0222CEEE2670</td>\n",
       "      <td>[{'url': 'https://www.nps.gov/common/uploads/s...</td>\n",
       "      <td>DC295 South to the Exit for I-694/I-395/Capito...</td>\n",
       "      <td>National Capital Parks-East</td>\n",
       "      <td>nace</td>\n",
       "      <td>lat:38.8659, long:-76.994</td>\n",
       "      <td>38.865900</td>\n",
       "    </tr>\n",
       "  </tbody>\n",
       "</table>\n",
       "<p>3 rows × 24 columns</p>\n",
       "</div>"
      ],
      "text/plain": [
       "   relevanceScore              designation  \\\n",
       "0               1        National Memorial   \n",
       "1               1  National Historic Trail   \n",
       "2               1                            \n",
       "\n",
       "                                         weatherInfo  \\\n",
       "0  http://forecast.weather.gov/MapClick.php?CityN...   \n",
       "1  In winter, watch for ice on trails and sidewal...   \n",
       "2  Summers are generally hot and humid, with dayt...   \n",
       "\n",
       "                                           addresses  \\\n",
       "0  [{'type': 'Physical', 'line2': '', 'line1': '1...   \n",
       "1  [{'type': 'Physical', 'line2': '', 'line1': '6...   \n",
       "2  [{'type': 'Physical', 'line2': '', 'line1': '1...   \n",
       "\n",
       "                                      operatingHours entrancePasses  \\\n",
       "0  [{'name': 'Hours of Operation', 'standardHours...             []   \n",
       "1  [{'name': 'Visitor Center Hours', 'standardHou...             []   \n",
       "2  [{'name': 'National Capital Parks-East Headqua...             []   \n",
       "\n",
       "                          name  \\\n",
       "0                 Federal Hall   \n",
       "1                Lewis & Clark   \n",
       "2  National Capital Parks-East   \n",
       "\n",
       "                                         description  \\\n",
       "0  Here on Wall Street, George Washington took th...   \n",
       "1  The Lewis and Clark National Historic Trail wi...   \n",
       "2  Welcome to National Capital Parks-East. We inv...   \n",
       "\n",
       "                                       directionsUrl fees  ...  \\\n",
       "0  http://www.nps.gov/feha/planyourvisit/directio...   []  ...   \n",
       "1                          https://www.nps.gov/lecl/   []  ...   \n",
       "2  http://www.nps.gov/nace/planyourvisit/directio...   []  ...   \n",
       "\n",
       "                                          activities  \\\n",
       "0  [{'name': 'Arts and Culture', 'id': '09DF0950-...   \n",
       "1  [{'name': 'Auto and ATV', 'id': '5F723BAD-7359...   \n",
       "2  [{'name': 'Biking', 'id': '7CE6E935-F839-4FEC-...   \n",
       "\n",
       "                                  url  longitude  \\\n",
       "0  https://www.nps.gov/feha/index.htm -74.010256   \n",
       "1  https://www.nps.gov/lecl/index.htm -95.924515   \n",
       "2  https://www.nps.gov/nace/index.htm -76.994000   \n",
       "\n",
       "                                     id  \\\n",
       "0  2337D255-2D32-4997-957A-D461EEA03AF8   \n",
       "1  5D443C5F-19A0-4A06-9CE4-30534A3DD81A   \n",
       "2  BA3C1A1D-AA6A-49EB-9237-0222CEEE2670   \n",
       "\n",
       "                                              images  \\\n",
       "0  [{'url': 'https://www.nps.gov/common/uploads/s...   \n",
       "1  [{'url': 'https://www.nps.gov/common/uploads/s...   \n",
       "2  [{'url': 'https://www.nps.gov/common/uploads/s...   \n",
       "\n",
       "                                      directionsInfo  \\\n",
       "0  The main entrance of Federal Hall is located a...   \n",
       "1  Lewis & Clark National Historic Trail Headquar...   \n",
       "2  DC295 South to the Exit for I-694/I-395/Capito...   \n",
       "\n",
       "                                fullName parkCode  \\\n",
       "0         Federal Hall National Memorial     feha   \n",
       "1  Lewis & Clark National Historic Trail     lecl   \n",
       "2            National Capital Parks-East     nace   \n",
       "\n",
       "                                  latLong   latitude  \n",
       "0      lat:40.70731192, long:-74.01025636  40.707312  \n",
       "1  lat:41.2646141052, long:-95.9245147705  41.264614  \n",
       "2               lat:38.8659, long:-76.994  38.865900  \n",
       "\n",
       "[3 rows x 24 columns]"
      ]
     },
     "execution_count": 2,
     "metadata": {},
     "output_type": "execute_result"
    }
   ],
   "source": [
    "%%sql\n",
    "SELECT * FROM nps_public_data.parks LIMIT 3"
   ]
  },
  {
   "cell_type": "markdown",
   "id": "1e4c4260",
   "metadata": {},
   "source": [
    "Note the type of `operatingHours`— `STRUCT`! That means it's a list or JSON."
   ]
  },
  {
   "cell_type": "code",
   "execution_count": 3,
   "id": "fd969db8-3815-42af-aa81-6598b14da5f8",
   "metadata": {
    "vscode": {
     "languageId": "sql"
    }
   },
   "outputs": [
    {
     "data": {
      "text/html": [
       "<div>\n",
       "<style scoped>\n",
       "    .dataframe tbody tr th:only-of-type {\n",
       "        vertical-align: middle;\n",
       "    }\n",
       "\n",
       "    .dataframe tbody tr th {\n",
       "        vertical-align: top;\n",
       "    }\n",
       "\n",
       "    .dataframe thead th {\n",
       "        text-align: right;\n",
       "    }\n",
       "</style>\n",
       "<table border=\"1\" class=\"dataframe\">\n",
       "  <thead>\n",
       "    <tr style=\"text-align: right;\">\n",
       "      <th></th>\n",
       "      <th>name</th>\n",
       "      <th>operating_hours</th>\n",
       "    </tr>\n",
       "  </thead>\n",
       "  <tbody>\n",
       "    <tr>\n",
       "      <th>0</th>\n",
       "      <td>Federal Hall</td>\n",
       "      <td>[{'name': 'Hours of Operation', 'standardHours...</td>\n",
       "    </tr>\n",
       "  </tbody>\n",
       "</table>\n",
       "</div>"
      ],
      "text/plain": [
       "           name                                    operating_hours\n",
       "0  Federal Hall  [{'name': 'Hours of Operation', 'standardHours..."
      ]
     },
     "execution_count": 3,
     "metadata": {},
     "output_type": "execute_result"
    }
   ],
   "source": [
    "%%sql\n",
    "-- Callout: query structuring, LIMIT statements\n",
    "SELECT \n",
    "    name, \n",
    "    operatingHours as operating_hours\n",
    "FROM nps_public_data.parks \n",
    "LIMIT 1"
   ]
  },
  {
   "cell_type": "markdown",
   "id": "09db876d",
   "metadata": {},
   "source": [
    "What if we want to create an `operatingHours` table? We can unpack `json` using `UNNEST`. Notice what we're doing here: there are two operations happening, but we're splitting them up! That's called a CTE (common table expression). It's a way of separating aggregates or other operations.\n",
    "\n",
    "Next, we're using `UNNEST` to explode the `STRUCT` or `json` data. DuckDB let's us use `recursive := true` to burrow down and get _every_ level of the `json`... Pretty neat!"
   ]
  },
  {
   "cell_type": "code",
   "execution_count": 4,
   "id": "58e31110",
   "metadata": {
    "vscode": {
     "languageId": "sql"
    }
   },
   "outputs": [
    {
     "data": {
      "text/html": [
       "<div>\n",
       "<style scoped>\n",
       "    .dataframe tbody tr th:only-of-type {\n",
       "        vertical-align: middle;\n",
       "    }\n",
       "\n",
       "    .dataframe tbody tr th {\n",
       "        vertical-align: top;\n",
       "    }\n",
       "\n",
       "    .dataframe thead th {\n",
       "        text-align: right;\n",
       "    }\n",
       "</style>\n",
       "<table border=\"1\" class=\"dataframe\">\n",
       "  <thead>\n",
       "    <tr style=\"text-align: right;\">\n",
       "      <th></th>\n",
       "      <th>park_name</th>\n",
       "      <th>park_id</th>\n",
       "      <th>friday</th>\n",
       "      <th>sunday</th>\n",
       "      <th>thursday</th>\n",
       "      <th>tuesday</th>\n",
       "      <th>saturday</th>\n",
       "      <th>monday</th>\n",
       "      <th>wednesday</th>\n",
       "      <th>description</th>\n",
       "      <th>category</th>\n",
       "    </tr>\n",
       "  </thead>\n",
       "  <tbody>\n",
       "    <tr>\n",
       "      <th>0</th>\n",
       "      <td>Federal Hall</td>\n",
       "      <td>2337D255-2D32-4997-957A-D461EEA03AF8</td>\n",
       "      <td>10:00AM - 5:00PM</td>\n",
       "      <td>Closed</td>\n",
       "      <td>10:00AM - 5:00PM</td>\n",
       "      <td>10:00AM - 5:00PM</td>\n",
       "      <td>Closed</td>\n",
       "      <td>10:00AM - 5:00PM</td>\n",
       "      <td>10:00AM - 5:00PM</td>\n",
       "      <td>Federal Hall is Open.</td>\n",
       "      <td>Hours of Operation</td>\n",
       "    </tr>\n",
       "    <tr>\n",
       "      <th>1</th>\n",
       "      <td>Lewis &amp; Clark</td>\n",
       "      <td>5D443C5F-19A0-4A06-9CE4-30534A3DD81A</td>\n",
       "      <td>8:30AM - 4:30PM</td>\n",
       "      <td>Closed</td>\n",
       "      <td>8:30AM - 4:30PM</td>\n",
       "      <td>8:30AM - 4:30PM</td>\n",
       "      <td>Closed</td>\n",
       "      <td>8:30AM - 4:30PM</td>\n",
       "      <td>8:30AM - 4:30PM</td>\n",
       "      <td>Lewis and Clark National Historic Trail Visito...</td>\n",
       "      <td>Visitor Center Hours</td>\n",
       "    </tr>\n",
       "  </tbody>\n",
       "</table>\n",
       "</div>"
      ],
      "text/plain": [
       "       park_name                               park_id            friday  \\\n",
       "0   Federal Hall  2337D255-2D32-4997-957A-D461EEA03AF8  10:00AM - 5:00PM   \n",
       "1  Lewis & Clark  5D443C5F-19A0-4A06-9CE4-30534A3DD81A   8:30AM - 4:30PM   \n",
       "\n",
       "   sunday          thursday           tuesday saturday            monday  \\\n",
       "0  Closed  10:00AM - 5:00PM  10:00AM - 5:00PM   Closed  10:00AM - 5:00PM   \n",
       "1  Closed   8:30AM - 4:30PM   8:30AM - 4:30PM   Closed   8:30AM - 4:30PM   \n",
       "\n",
       "          wednesday                                        description  \\\n",
       "0  10:00AM - 5:00PM                              Federal Hall is Open.   \n",
       "1   8:30AM - 4:30PM  Lewis and Clark National Historic Trail Visito...   \n",
       "\n",
       "               category  \n",
       "0    Hours of Operation  \n",
       "1  Visitor Center Hours  "
      ]
     },
     "execution_count": 4,
     "metadata": {},
     "output_type": "execute_result"
    }
   ],
   "source": [
    "%%sql\n",
    "-- Callout: CTEs, UNNEST\n",
    "WITH park_hours AS (\n",
    "    SELECT \n",
    "        name as park_name, \n",
    "        id as park_id, \n",
    "        UNNEST(operatingHours, recursive := true)\n",
    "    FROM nps_public_data.parks\n",
    ")\n",
    "SELECT \n",
    "    * EXCLUDE (exceptions, name),\n",
    "    name as category\n",
    "FROM park_hours\n",
    "LIMIT 2"
   ]
  },
  {
   "cell_type": "markdown",
   "id": "d7d31324",
   "metadata": {},
   "source": [
    "Notice how we use a CTE to make the query easy-to-read and logical. Now we can create a table with the result. `EXCLUDE` lets us use `SELECT *` and remove some unnecessary inclusions."
   ]
  },
  {
   "cell_type": "code",
   "execution_count": null,
   "id": "c7b3ae82",
   "metadata": {
    "vscode": {
     "languageId": "sql"
    }
   },
   "outputs": [],
   "source": [
    "%%sql\n",
    "-- Callout: column renaming, EXCLUDE\n",
    "CREATE OR REPLACE TABLE nps_public_data.park_hours AS (\n",
    "    WITH park_hours AS (\n",
    "        SELECT \n",
    "            name as park_name, \n",
    "            id as park_id, \n",
    "            -- https://duckdb.org/docs/sql/query_syntax/unnest.html\n",
    "            UNNEST(operatingHours, recursive := true)\n",
    "        FROM nps_public_data.parks\n",
    "    )\n",
    "    SELECT \n",
    "        * EXCLUDE (exceptions, name),\n",
    "        name as category\n",
    "    FROM park_hours \n",
    ")"
   ]
  },
  {
   "cell_type": "markdown",
   "id": "d34878a2",
   "metadata": {},
   "source": [
    "Creating tables with _dimensions_, like operating hours, lets us easily join to access the information. Here, notice how readable the query becomes.\n",
    "\n",
    "We're selecting the _name_ of the park and the _thursday_ hours `WHERE` the category is 'Hours of Operation'.\n",
    "\n",
    "If we'd included the above logic in this query, it'd be much more dense! This is one of our first _patterns_ for SQL transformation:\n",
    "\n",
    "> Store precalculated (or aggregated) queries or use CTEs to limit complexity and improve readability"
   ]
  },
  {
   "cell_type": "code",
   "execution_count": null,
   "id": "33fb4f9c",
   "metadata": {
    "vscode": {
     "languageId": "sql"
    }
   },
   "outputs": [],
   "source": [
    "%%sql\n",
    "-- Callout: WHERE clause\n",
    "SELECT\n",
    "    p.name,\n",
    "    h.thursday\n",
    "FROM nps_public_data.park_hours h\n",
    "LEFT JOIN nps_public_data.parks p\n",
    "    ON h.park_id = p.id\n",
    "WHERE h.category = 'Hours of Operation'\n",
    "LIMIT 5"
   ]
  },
  {
   "cell_type": "markdown",
   "id": "304541e8",
   "metadata": {},
   "source": [
    "**Note:** It's important to use single quotes in DuckDB SQL ('), double quotes (\") are reserved for table names"
   ]
  },
  {
   "cell_type": "markdown",
   "id": "408a8a6a",
   "metadata": {},
   "source": [
    "If we want to know all the values that `thursday` can take, we can use `DISTINCT` to return a list... This is like using `set()` in Python."
   ]
  },
  {
   "cell_type": "code",
   "execution_count": null,
   "id": "8c88fe7f",
   "metadata": {},
   "outputs": [],
   "source": [
    "%%sql \n",
    "# Callout: DISTINCT, Order, LIMIT\n",
    "SELECT \n",
    "    DISTINCT(thursday) \n",
    "FROM nps_public_data.park_hours \n",
    "ORDER BY 1 DESC \n",
    "LIMIT 10;"
   ]
  },
  {
   "cell_type": "markdown",
   "id": "23d501d8",
   "metadata": {},
   "source": [
    "We can use `CASE` functions to alter how data is returned or create entirely new columns. Here, we'll create a new table, renaming columns as we go. This is an example of _cleaning_ a dataset. We'll assume 'unknown' hours are closed park resources."
   ]
  },
  {
   "cell_type": "code",
   "execution_count": null,
   "id": "1c0f3c4a",
   "metadata": {
    "vscode": {
     "languageId": "sql"
    }
   },
   "outputs": [],
   "source": [
    "%%sql\n",
    "CREATE OR REPLACE TABLE nps_public_data.park_hours AS (\n",
    "    WITH park_hours AS (\n",
    "        SELECT \n",
    "            name as park_name, \n",
    "            id as park_id, \n",
    "            -- https://duckdb.org/docs/sql/query_syntax/unnest.html\n",
    "            UNNEST(operatingHours, recursive := true)\n",
    "        FROM nps_public_data.parks\n",
    "    )\n",
    "    SELECT \n",
    "        park_name,\n",
    "        park_id,\n",
    "        description,\n",
    "        name as category,\n",
    "        CASE monday WHEN 'unknown' THEN 'Closed' ELSE monday END as monday_hours,\n",
    "        CASE tuesday WHEN 'unknown' THEN 'Closed' ELSE tuesday END as tuesday_hours,\n",
    "        CASE wednesday WHEN 'unknown' THEN 'Closed' ELSE wednesday END as wednesday_hours,\n",
    "        CASE thursday WHEN 'unknown' THEN 'Closed' ELSE thursday END as thursday_hours,\n",
    "        CASE friday WHEN 'unknown' THEN 'Closed' ELSE friday END as friday_hours,\n",
    "        CASE saturday WHEN 'unknown' THEN 'Closed' ELSE saturday END as saturday_hours,\n",
    "        CASE sunday WHEN 'unknown' THEN 'Closed' ELSE sunday END as sunday_hours,\n",
    "        CASE WHEN \n",
    "            monday != 'Closed' AND\n",
    "            tuesday != 'Closed' AND\n",
    "            wednesday != 'Closed' AND\n",
    "            thursday != 'Closed' AND\n",
    "            friday != 'Closed' AND\n",
    "            saturday != 'Closed' AND\n",
    "            sunday != 'Closed'\n",
    "        THEN TRUE ELSE FALSE END as open_seven_days_a_week\n",
    "    FROM park_hours \n",
    ")"
   ]
  },
  {
   "cell_type": "markdown",
   "id": "2b231169",
   "metadata": {},
   "source": [
    "In the above, we create a boolean column, `open_seven_days_a_week`, that tells us if a park is open every day. Now this might seem repetitive, given that information is already contained in parks, but what it unlocks is a precise, easily readable filter:"
   ]
  },
  {
   "cell_type": "code",
   "execution_count": null,
   "id": "0d0825e1",
   "metadata": {
    "vscode": {
     "languageId": "sql"
    }
   },
   "outputs": [],
   "source": [
    "%%sql\n",
    "SELECT * FROM nps_public_data.park_hours WHERE open_seven_days_a_week LIMIT 1"
   ]
  },
  {
   "cell_type": "markdown",
   "id": "99306845",
   "metadata": {},
   "source": [
    "As a data or analytics engineer, it's important to make queries as readable as possible. If you know users downstream are often querying on `open_seven_days_a_week`, you can add a similar filter to make everyone's life easier!"
   ]
  },
  {
   "cell_type": "markdown",
   "id": "d2c2a2a4",
   "metadata": {},
   "source": [
    "Can we find parks that are closed on Thursday?"
   ]
  },
  {
   "cell_type": "code",
   "execution_count": null,
   "id": "36952fa7",
   "metadata": {
    "vscode": {
     "languageId": "sql"
    }
   },
   "outputs": [],
   "source": [
    "%%sql\n",
    "SELECT\n",
    "    p.name,\n",
    "    closed_thurs.category,\n",
    "    closed_thurs.thursday_hours,\n",
    "    COALESCE(closed_thurs.thursday_hours, 'Open') as closed_open,\n",
    "    NOT closed_thurs.thursday_hours IS NULL as is_closed\n",
    "FROM nps_public_data.parks p\n",
    "INNER JOIN nps_public_data.park_hours closed_thurs\n",
    "    ON closed_thurs.park_id = p.id\n",
    "    AND closed_thurs.thursday_hours = 'Closed'\n",
    "WHERE 1 = 1\n",
    "ORDER BY RANDOM()\n",
    "LIMIT 5;"
   ]
  },
  {
   "cell_type": "markdown",
   "id": "7d27b41e",
   "metadata": {},
   "source": [
    "Notice how we can represent the information in multiple ways— `is_closed`, `closed_open`, and `thursday` all contain the same information, but in different formats. There is no \"correct\" format— it depends entirely on how you use the data!\n",
    "- Boolean columns are readable for filters `SELECT * FROM thursday WHERE is_closed`\n",
    "- Human readable text makes it easier for users to intuit data `SELECT * FROM parks WHERE thursday_hours = 'Closed'`"
   ]
  },
  {
   "cell_type": "code",
   "execution_count": null,
   "id": "36b4766a",
   "metadata": {
    "vscode": {
     "languageId": "sql"
    }
   },
   "outputs": [],
   "source": [
    "%%sql\n",
    "EXPORT DATABASE '../../data/nps' (FORMAT PARQUET, COMPRESSION ZSTD, ROW_GROUP_SIZE 100000);"
   ]
  },
  {
   "cell_type": "markdown",
   "id": "c3446626",
   "metadata": {},
   "source": [
    "Notice the pattern:\n",
    "- Investigate data\n",
    "- Identify useful facts/dimensions that could be useful\n",
    "- Data modelling \n",
    "- Transformation\n",
    "- Storage\n",
    "\n",
    "A few other things:\n",
    "1. Data modelling is a useful skill that won't be discussed in this course— for helpful reading see the appendix.\n",
    "2. _Automating_ transformations is another useful tactic that _also_ won't be discussed in this course. See the appendix for data automations."
   ]
  },
  {
   "cell_type": "markdown",
   "id": "5c5cf1ae",
   "metadata": {},
   "source": []
  }
 ],
 "metadata": {
  "kernelspec": {
   "display_name": "Python 3",
   "language": "python",
   "name": "python3"
  },
  "language_info": {
   "codemirror_mode": {
    "name": "ipython",
    "version": 3
   },
   "file_extension": ".py",
   "mimetype": "text/x-python",
   "name": "python",
   "nbconvert_exporter": "python",
   "pygments_lexer": "ipython3",
   "version": "3.12.1"
  }
 },
 "nbformat": 4,
 "nbformat_minor": 5
}
