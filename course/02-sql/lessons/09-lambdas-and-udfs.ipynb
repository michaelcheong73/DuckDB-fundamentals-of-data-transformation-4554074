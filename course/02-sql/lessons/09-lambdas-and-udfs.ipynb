{
 "cells": [
  {
   "cell_type": "code",
   "execution_count": null,
   "metadata": {},
   "outputs": [],
   "source": [
    "import duckdb\n",
    "\n",
    "# Load SQL extension\n",
    "%load_ext sql\n",
    "\n",
    "# Initialize 🦆 DuckDB connection\n",
    "conn = duckdb.connect()\n",
    "\n",
    "# Import database\n",
    "%sql conn --alias duckdb\n",
    "%sql IMPORT DATABASE '../../data/nps';"
   ]
  },
  {
   "cell_type": "markdown",
   "metadata": {},
   "source": [
    "Now, there will be times when you'd like to do something in SQL that... well isn't possible in SQL. That's one of the reason we're covering _three_ tools in this course. An additional option, however, is to define what's known as a UDF, or \"User Defined Function.\" Certain SQL dialects (Redshift, BigQuery, DuckDB) support UDFs in languages other than SQL.\n",
    "\n",
    "If you end up working as an analyst or engineer, it's likely UDFs will come in handy at some point. This lesson is mainly to let you know they exist and show you some basic functionality. DuckDB supports Python UDFs— so if you'd like to use a function in SQL on a dataset, you can!\n",
    "\n",
    "UDFs take a regular function and make them accessible to DuckDB using the `create_function`, function. In the next cell, we'll create a function that returns a random emoji per row. In DuckDB the `side_effects` parameter is to apply the function to every row when the result is independent of the row, like for random data."
   ]
  },
  {
   "cell_type": "code",
   "execution_count": 2,
   "metadata": {},
   "outputs": [
    {
     "data": {
      "text/html": [
       "<span style=\"None\">Loading configurations from /workspaces/DuckDB-fundamentals-of-data-transformation-4554074/pyproject.toml.</span>"
      ],
      "text/plain": [
       "Loading configurations from /workspaces/DuckDB-fundamentals-of-data-transformation-4554074/pyproject.toml."
      ]
     },
     "metadata": {},
     "output_type": "display_data"
    },
    {
     "data": {
      "text/html": [
       "<span style=\"None\">Settings changed:</span>"
      ],
      "text/plain": [
       "Settings changed:"
      ]
     },
     "metadata": {},
     "output_type": "display_data"
    },
    {
     "data": {
      "text/html": [
       "\n",
       "<table>\n",
       "    <thead>\n",
       "        <tr>\n",
       "            <th>Config</th>\n",
       "            <th>value</th>\n",
       "        </tr>\n",
       "    </thead>\n",
       "    <tbody>\n",
       "        <tr>\n",
       "            <td>feedback</td>\n",
       "            <td>True</td>\n",
       "        </tr>\n",
       "        <tr>\n",
       "            <td>autopandas</td>\n",
       "            <td>True</td>\n",
       "        </tr>\n",
       "        <tr>\n",
       "            <td>displaylimit</td>\n",
       "            <td>10</td>\n",
       "        </tr>\n",
       "        <tr>\n",
       "            <td>displaycon</td>\n",
       "            <td>False</td>\n",
       "        </tr>\n",
       "    </tbody>\n",
       "</table>"
      ],
      "text/plain": [
       "\n",
       "+--------------+-------+\n",
       "|    Config    | value |\n",
       "+--------------+-------+\n",
       "|   feedback   |  True |\n",
       "|  autopandas  |  True |\n",
       "| displaylimit |   10  |\n",
       "|  displaycon  | False |\n",
       "+--------------+-------+"
      ]
     },
     "metadata": {},
     "output_type": "display_data"
    },
    {
     "data": {
      "text/html": [
       "<div>\n",
       "<style scoped>\n",
       "    .dataframe tbody tr th:only-of-type {\n",
       "        vertical-align: middle;\n",
       "    }\n",
       "\n",
       "    .dataframe tbody tr th {\n",
       "        vertical-align: top;\n",
       "    }\n",
       "\n",
       "    .dataframe thead th {\n",
       "        text-align: right;\n",
       "    }\n",
       "</style>\n",
       "<table border=\"1\" class=\"dataframe\">\n",
       "  <thead>\n",
       "    <tr style=\"text-align: right;\">\n",
       "      <th></th>\n",
       "      <th>Count</th>\n",
       "    </tr>\n",
       "  </thead>\n",
       "  <tbody>\n",
       "    <tr>\n",
       "      <th>0</th>\n",
       "      <td>224</td>\n",
       "    </tr>\n",
       "  </tbody>\n",
       "</table>\n",
       "</div>"
      ],
      "text/plain": [
       "   Count\n",
       "0    224"
      ]
     },
     "execution_count": 2,
     "metadata": {},
     "output_type": "execute_result"
    }
   ],
   "source": [
    "import duckdb\n",
    "\n",
    "# Load SQL extension\n",
    "%load_ext sql\n",
    "\n",
    "# Initialize 🦆 DuckDB connection\n",
    "conn = duckdb.connect()\n",
    "\n",
    "# Import database\n",
    "%sql conn --alias duckdb\n",
    "%sql IMPORT DATABASE '../../data/nps';"
   ]
  },
  {
   "cell_type": "code",
   "execution_count": 3,
   "metadata": {},
   "outputs": [
    {
     "data": {
      "text/plain": [
       "<duckdb.duckdb.DuckDBPyConnection at 0x7ff36c123170>"
      ]
     },
     "execution_count": 3,
     "metadata": {},
     "output_type": "execute_result"
    }
   ],
   "source": [
    "from duckdb.typing import *\n",
    "from faker import Faker\n",
    "\n",
    "\n",
    "def random_emoji():\n",
    "    fake = Faker()\n",
    "    fake.add_provider(\"emoji\")\n",
    "    return fake.emoji()\n",
    "\n",
    "\n",
    "conn.create_function(\"random_emoji\", random_emoji, [], \"VARCHAR\", side_effects=True)"
   ]
  },
  {
   "cell_type": "markdown",
   "metadata": {},
   "source": [
    "Since we created the function in the connection, we can call it directly in SQL. This one is a bit playful:"
   ]
  },
  {
   "cell_type": "code",
   "execution_count": 4,
   "metadata": {},
   "outputs": [
    {
     "data": {
      "text/html": [
       "<div>\n",
       "<style scoped>\n",
       "    .dataframe tbody tr th:only-of-type {\n",
       "        vertical-align: middle;\n",
       "    }\n",
       "\n",
       "    .dataframe tbody tr th {\n",
       "        vertical-align: top;\n",
       "    }\n",
       "\n",
       "    .dataframe thead th {\n",
       "        text-align: right;\n",
       "    }\n",
       "</style>\n",
       "<table border=\"1\" class=\"dataframe\">\n",
       "  <thead>\n",
       "    <tr style=\"text-align: right;\">\n",
       "      <th></th>\n",
       "      <th>fullName</th>\n",
       "      <th>👋</th>\n",
       "    </tr>\n",
       "  </thead>\n",
       "  <tbody>\n",
       "    <tr>\n",
       "      <th>0</th>\n",
       "      <td>Federal Hall National Memorial</td>\n",
       "      <td>🚣🏻</td>\n",
       "    </tr>\n",
       "    <tr>\n",
       "      <th>1</th>\n",
       "      <td>Lewis &amp; Clark National Historic Trail</td>\n",
       "      <td>🚴🏽‍♂️</td>\n",
       "    </tr>\n",
       "    <tr>\n",
       "      <th>2</th>\n",
       "      <td>National Capital Parks-East</td>\n",
       "      <td>🇲🇦</td>\n",
       "    </tr>\n",
       "    <tr>\n",
       "      <th>3</th>\n",
       "      <td>Adams National Historical Park</td>\n",
       "      <td>😀</td>\n",
       "    </tr>\n",
       "    <tr>\n",
       "      <th>4</th>\n",
       "      <td>George Washington Memorial Parkway</td>\n",
       "      <td>🧑🏽‍🦱</td>\n",
       "    </tr>\n",
       "    <tr>\n",
       "      <th>5</th>\n",
       "      <td>Eleanor Roosevelt National Historic Site</td>\n",
       "      <td>🦆</td>\n",
       "    </tr>\n",
       "    <tr>\n",
       "      <th>6</th>\n",
       "      <td>Morristown National Historical Park</td>\n",
       "      <td>🇯🇵</td>\n",
       "    </tr>\n",
       "    <tr>\n",
       "      <th>7</th>\n",
       "      <td>Freedom Riders National Monument</td>\n",
       "      <td>🆚</td>\n",
       "    </tr>\n",
       "    <tr>\n",
       "      <th>8</th>\n",
       "      <td>Cedar Breaks National Monument</td>\n",
       "      <td>👩🏽</td>\n",
       "    </tr>\n",
       "    <tr>\n",
       "      <th>9</th>\n",
       "      <td>Devils Postpile National Monument</td>\n",
       "      <td>🇰🇵</td>\n",
       "    </tr>\n",
       "  </tbody>\n",
       "</table>\n",
       "</div>"
      ],
      "text/plain": [
       "                                   fullName      👋\n",
       "0            Federal Hall National Memorial     🚣🏻\n",
       "1     Lewis & Clark National Historic Trail  🚴🏽‍♂️\n",
       "2               National Capital Parks-East     🇲🇦\n",
       "3            Adams National Historical Park      😀\n",
       "4        George Washington Memorial Parkway   🧑🏽‍🦱\n",
       "5  Eleanor Roosevelt National Historic Site      🦆\n",
       "6       Morristown National Historical Park     🇯🇵\n",
       "7          Freedom Riders National Monument      🆚\n",
       "8            Cedar Breaks National Monument     👩🏽\n",
       "9         Devils Postpile National Monument     🇰🇵"
      ]
     },
     "execution_count": 4,
     "metadata": {},
     "output_type": "execute_result"
    }
   ],
   "source": [
    "%%sql\n",
    "SELECT\n",
    "    fullname,\n",
    "    random_emoji() as 👋\n",
    "FROM nps_public_data.parks\n",
    "LIMIT 10;\n",
    "    "
   ]
  },
  {
   "cell_type": "markdown",
   "metadata": {},
   "source": [
    "Now, that might not be the most _useful_ function, so let's give another example. Can you think of how to swap the casing of every letter in SQL? Me neither. Luckily, it's a pretty standard function in most libraries. Here, we use the pyarrow implementation to define a `swap_case` UDF"
   ]
  },
  {
   "cell_type": "code",
   "execution_count": 5,
   "metadata": {},
   "outputs": [
    {
     "data": {
      "text/plain": [
       "<duckdb.duckdb.DuckDBPyConnection at 0x7ff36c123170>"
      ]
     },
     "execution_count": 5,
     "metadata": {},
     "output_type": "execute_result"
    }
   ],
   "source": [
    "import pyarrow.compute as pc\n",
    "\n",
    "\n",
    "def swap_case(x):\n",
    "    # Swap the case of the 'column' using utf8_swapcase and return the result\n",
    "    return pc.utf8_swapcase(x)\n",
    "\n",
    "\n",
    "# To register the function, we must define it's type to be 'arrow'\n",
    "conn.create_function(\"swap_case\", swap_case, [\"VARCHAR\"], \"VARCHAR\", type=\"arrow\")"
   ]
  },
  {
   "cell_type": "markdown",
   "metadata": {},
   "source": [
    "This let's up perform what might be an otherwise complex operation in SQL with relative simplicity _directly_ in the SQL context."
   ]
  },
  {
   "cell_type": "code",
   "execution_count": 6,
   "metadata": {
    "vscode": {
     "languageId": "sql"
    }
   },
   "outputs": [
    {
     "data": {
      "text/html": [
       "<div>\n",
       "<style scoped>\n",
       "    .dataframe tbody tr th:only-of-type {\n",
       "        vertical-align: middle;\n",
       "    }\n",
       "\n",
       "    .dataframe tbody tr th {\n",
       "        vertical-align: top;\n",
       "    }\n",
       "\n",
       "    .dataframe thead th {\n",
       "        text-align: right;\n",
       "    }\n",
       "</style>\n",
       "<table border=\"1\" class=\"dataframe\">\n",
       "  <thead>\n",
       "    <tr style=\"text-align: right;\">\n",
       "      <th></th>\n",
       "      <th>pARK_nAME</th>\n",
       "    </tr>\n",
       "  </thead>\n",
       "  <tbody>\n",
       "    <tr>\n",
       "      <th>0</th>\n",
       "      <td>fEDERAL hALL nATIONAL mEMORIAL</td>\n",
       "    </tr>\n",
       "    <tr>\n",
       "      <th>1</th>\n",
       "      <td>lEWIS &amp; cLARK nATIONAL hISTORIC tRAIL</td>\n",
       "    </tr>\n",
       "    <tr>\n",
       "      <th>2</th>\n",
       "      <td>nATIONAL cAPITAL pARKS-eAST</td>\n",
       "    </tr>\n",
       "    <tr>\n",
       "      <th>3</th>\n",
       "      <td>aDAMS nATIONAL hISTORICAL pARK</td>\n",
       "    </tr>\n",
       "    <tr>\n",
       "      <th>4</th>\n",
       "      <td>gEORGE wASHINGTON mEMORIAL pARKWAY</td>\n",
       "    </tr>\n",
       "    <tr>\n",
       "      <th>5</th>\n",
       "      <td>eLEANOR rOOSEVELT nATIONAL hISTORIC sITE</td>\n",
       "    </tr>\n",
       "    <tr>\n",
       "      <th>6</th>\n",
       "      <td>mORRISTOWN nATIONAL hISTORICAL pARK</td>\n",
       "    </tr>\n",
       "    <tr>\n",
       "      <th>7</th>\n",
       "      <td>fREEDOM rIDERS nATIONAL mONUMENT</td>\n",
       "    </tr>\n",
       "    <tr>\n",
       "      <th>8</th>\n",
       "      <td>cEDAR bREAKS nATIONAL mONUMENT</td>\n",
       "    </tr>\n",
       "    <tr>\n",
       "      <th>9</th>\n",
       "      <td>dEVILS pOSTPILE nATIONAL mONUMENT</td>\n",
       "    </tr>\n",
       "  </tbody>\n",
       "</table>\n",
       "</div>"
      ],
      "text/plain": [
       "                                  pARK_nAME\n",
       "0            fEDERAL hALL nATIONAL mEMORIAL\n",
       "1     lEWIS & cLARK nATIONAL hISTORIC tRAIL\n",
       "2               nATIONAL cAPITAL pARKS-eAST\n",
       "3            aDAMS nATIONAL hISTORICAL pARK\n",
       "4        gEORGE wASHINGTON mEMORIAL pARKWAY\n",
       "5  eLEANOR rOOSEVELT nATIONAL hISTORIC sITE\n",
       "6       mORRISTOWN nATIONAL hISTORICAL pARK\n",
       "7          fREEDOM rIDERS nATIONAL mONUMENT\n",
       "8            cEDAR bREAKS nATIONAL mONUMENT\n",
       "9         dEVILS pOSTPILE nATIONAL mONUMENT"
      ]
     },
     "execution_count": 6,
     "metadata": {},
     "output_type": "execute_result"
    }
   ],
   "source": [
    "%%sql\n",
    "SELECT\n",
    "    swap_case(fullname) as pARK_nAME\n",
    "FROM nps_public_data.parks\n",
    "LIMIT 10"
   ]
  },
  {
   "cell_type": "markdown",
   "metadata": {},
   "source": [
    "DuckDB also supports _lambdas_, which operate on every item in a list. Take for example `list_transform`, which can [act on every element in a list](https://duckdb.org/docs/sql/functions/lambda.html#transform).\n",
    "\n",
    "This is important: there are sometimes when exploding a list (as we did in earlier sections) would be a nightmare. Lambda functions are a great way to keep a table at a certain grain while being able to apply transformations across those lists.\n",
    "\n",
    "In the following example, we apply a list transform to modify the entries of our `states_list`s."
   ]
  },
  {
   "cell_type": "code",
   "execution_count": 7,
   "metadata": {
    "vscode": {
     "languageId": "sql"
    }
   },
   "outputs": [
    {
     "data": {
      "text/html": [
       "<div>\n",
       "<style scoped>\n",
       "    .dataframe tbody tr th:only-of-type {\n",
       "        vertical-align: middle;\n",
       "    }\n",
       "\n",
       "    .dataframe tbody tr th {\n",
       "        vertical-align: top;\n",
       "    }\n",
       "\n",
       "    .dataframe thead th {\n",
       "        text-align: right;\n",
       "    }\n",
       "</style>\n",
       "<table border=\"1\" class=\"dataframe\">\n",
       "  <thead>\n",
       "    <tr style=\"text-align: right;\">\n",
       "      <th></th>\n",
       "      <th>fullName</th>\n",
       "      <th>states_list</th>\n",
       "      <th>lower_states_list</th>\n",
       "      <th>lower_states_list_1</th>\n",
       "    </tr>\n",
       "  </thead>\n",
       "  <tbody>\n",
       "    <tr>\n",
       "      <th>0</th>\n",
       "      <td>Cedar Breaks National Monument</td>\n",
       "      <td>[UT]</td>\n",
       "      <td>[ut]</td>\n",
       "      <td>[ut]</td>\n",
       "    </tr>\n",
       "    <tr>\n",
       "      <th>1</th>\n",
       "      <td>Arches National Park</td>\n",
       "      <td>[UT]</td>\n",
       "      <td>[ut]</td>\n",
       "      <td>[ut]</td>\n",
       "    </tr>\n",
       "    <tr>\n",
       "      <th>2</th>\n",
       "      <td>Bryce Canyon National Park</td>\n",
       "      <td>[UT]</td>\n",
       "      <td>[ut]</td>\n",
       "      <td>[ut]</td>\n",
       "    </tr>\n",
       "    <tr>\n",
       "      <th>3</th>\n",
       "      <td>California National Historic Trail</td>\n",
       "      <td>[CA, CO, ID, KS, MO, NE, NV, OR, UT, WY]</td>\n",
       "      <td>[ca, co, id, ks, mo, ne, nv, or, ut, wy]</td>\n",
       "      <td>[ca, co, id, ks, mo, ne, nv, or, ut, wy]</td>\n",
       "    </tr>\n",
       "    <tr>\n",
       "      <th>4</th>\n",
       "      <td>Canyonlands National Park</td>\n",
       "      <td>[UT]</td>\n",
       "      <td>[ut]</td>\n",
       "      <td>[ut]</td>\n",
       "    </tr>\n",
       "  </tbody>\n",
       "</table>\n",
       "</div>"
      ],
      "text/plain": [
       "                             fullName  \\\n",
       "0      Cedar Breaks National Monument   \n",
       "1                Arches National Park   \n",
       "2          Bryce Canyon National Park   \n",
       "3  California National Historic Trail   \n",
       "4           Canyonlands National Park   \n",
       "\n",
       "                                states_list  \\\n",
       "0                                      [UT]   \n",
       "1                                      [UT]   \n",
       "2                                      [UT]   \n",
       "3  [CA, CO, ID, KS, MO, NE, NV, OR, UT, WY]   \n",
       "4                                      [UT]   \n",
       "\n",
       "                          lower_states_list  \\\n",
       "0                                      [ut]   \n",
       "1                                      [ut]   \n",
       "2                                      [ut]   \n",
       "3  [ca, co, id, ks, mo, ne, nv, or, ut, wy]   \n",
       "4                                      [ut]   \n",
       "\n",
       "                        lower_states_list_1  \n",
       "0                                      [ut]  \n",
       "1                                      [ut]  \n",
       "2                                      [ut]  \n",
       "3  [ca, co, id, ks, mo, ne, nv, or, ut, wy]  \n",
       "4                                      [ut]  "
      ]
     },
     "execution_count": 7,
     "metadata": {},
     "output_type": "execute_result"
    }
   ],
   "source": [
    "%%sql\n",
    "-- Which parks are fully or partially in Utah?\n",
    "WITH park_states AS (\n",
    "    SELECT \n",
    "        fullname,\n",
    "        states AS states_string, \n",
    "        split(states, ',') ::string[] AS states_list\n",
    "    FROM nps_public_data.parks p\n",
    "    )\n",
    "SELECT \n",
    "    fullname,\n",
    "    states_list,\n",
    "    -- Transform lists of strings to lowercase\n",
    "    list_transform(states_list, x -> lower(x)) as lower_states_list,\n",
    "    -- You can even combine lambdas with UDFs\n",
    "    list_transform(states_list, x -> swap_case(x)) as lower_states_list,\n",
    "FROM park_states\n",
    "WHERE list_contains(states_list, 'UT')\n",
    "LIMIT 5"
   ]
  },
  {
   "cell_type": "markdown",
   "metadata": {},
   "source": [
    "Other functions like `list_reduce` or `list_filter` can be helpful, too. Here's another example:"
   ]
  },
  {
   "cell_type": "code",
   "execution_count": 8,
   "metadata": {
    "vscode": {
     "languageId": "sql"
    }
   },
   "outputs": [
    {
     "data": {
      "text/html": [
       "<div>\n",
       "<style scoped>\n",
       "    .dataframe tbody tr th:only-of-type {\n",
       "        vertical-align: middle;\n",
       "    }\n",
       "\n",
       "    .dataframe tbody tr th {\n",
       "        vertical-align: top;\n",
       "    }\n",
       "\n",
       "    .dataframe thead th {\n",
       "        text-align: right;\n",
       "    }\n",
       "</style>\n",
       "<table border=\"1\" class=\"dataframe\">\n",
       "  <thead>\n",
       "    <tr style=\"text-align: right;\">\n",
       "      <th></th>\n",
       "      <th>fullName</th>\n",
       "      <th>states_string</th>\n",
       "      <th>states_list</th>\n",
       "      <th>new_states_string</th>\n",
       "      <th>states_list_no_ut</th>\n",
       "    </tr>\n",
       "  </thead>\n",
       "  <tbody>\n",
       "    <tr>\n",
       "      <th>0</th>\n",
       "      <td>California National Historic Trail</td>\n",
       "      <td>CA,CO,ID,KS,MO,NE,NV,OR,UT,WY</td>\n",
       "      <td>[CA, CO, ID, KS, MO, NE, NV, OR, UT, WY]</td>\n",
       "      <td>CA, CO, ID, KS, MO, NE, NV, OR, UT, WY</td>\n",
       "      <td>[CA, CO, ID, KS, MO, NE, NV, OR, WY]</td>\n",
       "    </tr>\n",
       "    <tr>\n",
       "      <th>1</th>\n",
       "      <td>Dinosaur National Monument</td>\n",
       "      <td>CO,UT</td>\n",
       "      <td>[CO, UT]</td>\n",
       "      <td>CO, UT</td>\n",
       "      <td>[CO]</td>\n",
       "    </tr>\n",
       "    <tr>\n",
       "      <th>2</th>\n",
       "      <td>Hovenweep National Monument</td>\n",
       "      <td>CO,UT</td>\n",
       "      <td>[CO, UT]</td>\n",
       "      <td>CO, UT</td>\n",
       "      <td>[CO]</td>\n",
       "    </tr>\n",
       "    <tr>\n",
       "      <th>3</th>\n",
       "      <td>Mormon Pioneer National Historic Trail</td>\n",
       "      <td>IL,IA,NE,UT,WY</td>\n",
       "      <td>[IL, IA, NE, UT, WY]</td>\n",
       "      <td>IL, IA, NE, UT, WY</td>\n",
       "      <td>[IL, IA, NE, WY]</td>\n",
       "    </tr>\n",
       "    <tr>\n",
       "      <th>4</th>\n",
       "      <td>Old Spanish National Historic Trail</td>\n",
       "      <td>AZ,CA,CO,NV,NM,UT</td>\n",
       "      <td>[AZ, CA, CO, NV, NM, UT]</td>\n",
       "      <td>AZ, CA, CO, NV, NM, UT</td>\n",
       "      <td>[AZ, CA, CO, NV, NM]</td>\n",
       "    </tr>\n",
       "  </tbody>\n",
       "</table>\n",
       "</div>"
      ],
      "text/plain": [
       "                                 fullName                  states_string  \\\n",
       "0      California National Historic Trail  CA,CO,ID,KS,MO,NE,NV,OR,UT,WY   \n",
       "1              Dinosaur National Monument                          CO,UT   \n",
       "2             Hovenweep National Monument                          CO,UT   \n",
       "3  Mormon Pioneer National Historic Trail                 IL,IA,NE,UT,WY   \n",
       "4     Old Spanish National Historic Trail              AZ,CA,CO,NV,NM,UT   \n",
       "\n",
       "                                states_list  \\\n",
       "0  [CA, CO, ID, KS, MO, NE, NV, OR, UT, WY]   \n",
       "1                                  [CO, UT]   \n",
       "2                                  [CO, UT]   \n",
       "3                      [IL, IA, NE, UT, WY]   \n",
       "4                  [AZ, CA, CO, NV, NM, UT]   \n",
       "\n",
       "                        new_states_string  \\\n",
       "0  CA, CO, ID, KS, MO, NE, NV, OR, UT, WY   \n",
       "1                                  CO, UT   \n",
       "2                                  CO, UT   \n",
       "3                      IL, IA, NE, UT, WY   \n",
       "4                  AZ, CA, CO, NV, NM, UT   \n",
       "\n",
       "                      states_list_no_ut  \n",
       "0  [CA, CO, ID, KS, MO, NE, NV, OR, WY]  \n",
       "1                                  [CO]  \n",
       "2                                  [CO]  \n",
       "3                      [IL, IA, NE, WY]  \n",
       "4                  [AZ, CA, CO, NV, NM]  "
      ]
     },
     "execution_count": 8,
     "metadata": {},
     "output_type": "execute_result"
    }
   ],
   "source": [
    "%%sql\n",
    "-- Which parks are fully or partially in Utah?\n",
    "WITH park_states AS (\n",
    "    SELECT \n",
    "        fullname,\n",
    "        states AS states_string, \n",
    "        split(states, ',') ::string[] AS states_list\n",
    "    FROM nps_public_data.parks p\n",
    "    )\n",
    "SELECT \n",
    "    fullname,\n",
    "    states_string,\n",
    "    states_list,\n",
    "    -- Transform list back to a string 🙃\n",
    "    list_reduce(states_list, (x, y) -> concat(x, ', ', y)) as new_states_string,\n",
    "    -- Filter out utah from list\n",
    "    list_filter(states_list, x -> x != 'UT') as states_list_no_ut,\n",
    "FROM park_states\n",
    "WHERE list_contains(states_list, 'UT')\n",
    "AND len(states_list) > 1\n",
    "LIMIT 5"
   ]
  },
  {
   "cell_type": "markdown",
   "metadata": {},
   "source": [
    "Note how we were able to use `list_reduce` to transform our list _back_ to a string and `list_filter` to _remove_ an element from our list.\n",
    "\n",
    "So our _patterns_ for this section are:\n",
    "\n",
    "- **User Defined Functions (UDFs):** can be valuable when you need the flexibility of Python or JavaScript, but would prefer your function execute in SQL, whether for practical or organizational purposes. UDFs can be incredibly valuable, but you should keep a close eye on performance. They're often overlooked by query optimizers and can quickly lead to bottlenecks in performance. \n",
    "- **Lambdas:** can be used to operate on every element in a list. This can be valuable for keeping `STRUCT` columns intact without needing to explode and re-create them... A very computationally intensive operation. These functions may go by different names in different databases, or might not be possible. "
   ]
  }
 ],
 "metadata": {
  "kernelspec": {
   "display_name": "Python 3",
   "language": "python",
   "name": "python3"
  },
  "language_info": {
   "codemirror_mode": {
    "name": "ipython",
    "version": 3
   },
   "file_extension": ".py",
   "mimetype": "text/x-python",
   "name": "python",
   "nbconvert_exporter": "python",
   "pygments_lexer": "ipython3",
   "version": "3.12.1"
  }
 },
 "nbformat": 4,
 "nbformat_minor": 2
}
